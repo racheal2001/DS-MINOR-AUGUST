{
  "nbformat": 4,
  "nbformat_minor": 0,
  "metadata": {
    "colab": {
      "name": "Untitled0.ipynb",
      "provenance": []
    },
    "kernelspec": {
      "name": "python3",
      "display_name": "Python 3"
    },
    "language_info": {
      "name": "python"
    }
  },
  "cells": [
    {
      "cell_type": "code",
      "metadata": {
        "id": "uCXffWaV1L0g"
      },
      "source": [
        "import pandas as pd \n",
        "import matplotlib.pyplot as plt\n",
        "df=pd.read_csv(\"/content/drive/MyDrive/Copy of winequality-red.csv\")\n"
      ],
      "execution_count": 2,
      "outputs": []
    },
    {
      "cell_type": "code",
      "metadata": {
        "colab": {
          "base_uri": "https://localhost:8080/"
        },
        "id": "undX_t3E5liL",
        "outputId": "eec72033-500a-4d6c-e02f-49454598b294"
      },
      "source": [
        "from google.colab import drive\n",
        "drive.mount(\"/content/drive\")"
      ],
      "execution_count": null,
      "outputs": [
        {
          "output_type": "stream",
          "name": "stdout",
          "text": [
            "Drive already mounted at /content/drive; to attempt to forcibly remount, call drive.mount(\"/content/drive\", force_remount=True).\n"
          ]
        }
      ]
    },
    {
      "cell_type": "code",
      "metadata": {
        "colab": {
          "base_uri": "https://localhost:8080/",
          "height": 295
        },
        "id": "vP6ya0d4-Jpt",
        "outputId": "07e44e4e-3866-46b8-cc74-cadfa87e7c0c"
      },
      "source": [
        "df=pd.read_csv(\"/content/drive/MyDrive/Copy of winequality-red.csv\")\n",
        "qu=df[\"quality\"].value_counts().sort_index()\n",
        "plt.bar(qu.index.astype(str),qu)\n",
        "plt.xlabel(\"quality of wine\")\n",
        "plt.ylabel(\"count\")\n",
        "plt.title(\"wine\")\n",
        "plt.show()"
      ],
      "execution_count": 8,
      "outputs": [
        {
          "output_type": "display_data",
          "data": {
            "image/png": "[encoded data removed]",
            "text/plain": [
              "<Figure size 432x288 with 1 Axes>"
            ]
          },
          "metadata": {
            "needs_background": "light"
          }
        }
      ]
    },
    {
      "cell_type": "code",
      "metadata": {
        "colab": {
          "base_uri": "https://localhost:8080/"
        },
        "id": "iD4cRZcCASO4",
        "outputId": "01fd83a3-ea84-44f1-d295-be799fa6b5eb"
      },
      "source": [
        "print(df.isnull().sum)"
      ],
      "execution_count": 9,
      "outputs": [
        {
          "output_type": "stream",
          "name": "stdout",
          "text": [
            "<bound method DataFrame.sum of       fixed acidity  volatile acidity  citric acid  ...  sulphates  alcohol  quality\n",
            "0             False             False        False  ...      False    False    False\n",
            "1             False             False        False  ...      False    False    False\n",
            "2             False             False        False  ...      False    False    False\n",
            "3             False             False        False  ...      False    False    False\n",
            "4             False             False        False  ...      False    False    False\n",
            "...             ...               ...          ...  ...        ...      ...      ...\n",
            "1594          False             False        False  ...      False    False    False\n",
            "1595          False             False        False  ...      False    False    False\n",
            "1596          False             False        False  ...      False    False    False\n",
            "1597          False             False        False  ...      False    False    False\n",
            "1598          False             False        False  ...      False    False    False\n",
            "\n",
            "[1599 rows x 12 columns]>\n"
          ]
        }
      ]
    },
    {
      "cell_type": "code",
      "metadata": {
        "colab": {
          "base_uri": "https://localhost:8080/"
        },
        "id": "DM637EseBCiP",
        "outputId": "2ae36986-3db3-4c7a-ecda-8b18203b5b2f"
      },
      "source": [
        "df['goodquality']=[1 if x >= 6 else 0 for x in df['quality']]\n",
        "X = df.drop(['quality','goodquality'], axis = 1)\n",
        "y = df['goodquality']\n",
        "df['goodquality'].value_counts()"
      ],
      "execution_count": 10,
      "outputs": [
        {
          "output_type": "execute_result",
          "data": {
            "text/plain": [
              "1    855\n",
              "0    744\n",
              "Name: goodquality, dtype: int64"
            ]
          },
          "metadata": {},
          "execution_count": 10
        }
      ]
    },
    {
      "cell_type": "code",
      "metadata": {
        "id": "gZ8Jojm0F06O"
      },
      "source": [
        "from sklearn.preprocessing import StandardScaler\n",
        "X_features = X\n",
        "X = StandardScaler().fit_transform(X)"
      ],
      "execution_count": 11,
      "outputs": []
    },
    {
      "cell_type": "code",
      "metadata": {
        "id": "q8h8x1_jGF8x"
      },
      "source": [
        "from sklearn.model_selection import train_test_split\n",
        "X_train, X_test, y_train, y_test = train_test_split(X, y, test_size=.25, random_state=0)"
      ],
      "execution_count": 12,
      "outputs": []
    },
    {
      "cell_type": "code",
      "metadata": {
        "colab": {
          "base_uri": "https://localhost:8080/"
        },
        "id": "miu0JC3ZGXWD",
        "outputId": "03d96dde-84c2-45c2-9372-659431c3d617"
      },
      "source": [
        "from sklearn.metrics import classification_report\n",
        "from sklearn.tree import DecisionTreeClassifier\n",
        "model1 = DecisionTreeClassifier(random_state=1)\n",
        "model1.fit(X_train, y_train)\n",
        "y_pred1 = model1.predict(X_test)\n",
        "print(classification_report(y_test, y_pred1))"
      ],
      "execution_count": 13,
      "outputs": [
        {
          "output_type": "stream",
          "name": "stdout",
          "text": [
            "              precision    recall  f1-score   support\n",
            "\n",
            "           0       0.75      0.71      0.73       185\n",
            "           1       0.76      0.80      0.78       215\n",
            "\n",
            "    accuracy                           0.76       400\n",
            "   macro avg       0.76      0.75      0.75       400\n",
            "weighted avg       0.76      0.76      0.76       400\n",
            "\n"
          ]
        }
      ]
    },
    {
      "cell_type": "code",
      "metadata": {
        "colab": {
          "base_uri": "https://localhost:8080/"
        },
        "id": "GKmJllXeG6Pq",
        "outputId": "9d90ce00-84ee-43a0-fdbe-242efc15e123"
      },
      "source": [
        "from sklearn.ensemble import RandomForestClassifier\n",
        "model2 = RandomForestClassifier(random_state=1)\n",
        "model2.fit(X_train, y_train)\n",
        "y_pred2 = model2.predict(X_test)\n",
        "print(classification_report(y_test, y_pred2))"
      ],
      "execution_count": 15,
      "outputs": [
        {
          "output_type": "stream",
          "name": "stdout",
          "text": [
            "              precision    recall  f1-score   support\n",
            "\n",
            "           0       0.79      0.75      0.77       185\n",
            "           1       0.79      0.83      0.81       215\n",
            "\n",
            "    accuracy                           0.79       400\n",
            "   macro avg       0.79      0.79      0.79       400\n",
            "weighted avg       0.79      0.79      0.79       400\n",
            "\n"
          ]
        }
      ]
    },
    {
      "cell_type": "code",
      "metadata": {
        "colab": {
          "base_uri": "https://localhost:8080/"
        },
        "id": "58wQQBcbHY5b",
        "outputId": "b80d579f-727e-49cc-ac75-843c4c97eea0"
      },
      "source": [
        "from sklearn.ensemble import AdaBoostClassifier\n",
        "model3 = AdaBoostClassifier(random_state=1)\n",
        "model3.fit(X_train, y_train)\n",
        "y_pred3 = model3.predict(X_test)\n",
        "print(classification_report(y_test, y_pred3))"
      ],
      "execution_count": 16,
      "outputs": [
        {
          "output_type": "stream",
          "name": "stdout",
          "text": [
            "              precision    recall  f1-score   support\n",
            "\n",
            "           0       0.69      0.70      0.70       185\n",
            "           1       0.74      0.73      0.74       215\n",
            "\n",
            "    accuracy                           0.72       400\n",
            "   macro avg       0.72      0.72      0.72       400\n",
            "weighted avg       0.72      0.72      0.72       400\n",
            "\n"
          ]
        }
      ]
    },
    {
      "cell_type": "code",
      "metadata": {
        "colab": {
          "base_uri": "https://localhost:8080/"
        },
        "id": "ojW_E1rCHwE4",
        "outputId": "8ad85ca4-4254-47ec-fcd6-fc2460d58551"
      },
      "source": [
        "from sklearn.ensemble import GradientBoostingClassifier\n",
        "model4 = GradientBoostingClassifier(random_state=1)\n",
        "model4.fit(X_train, y_train)\n",
        "y_pred4 = model4.predict(X_test)\n",
        "print(classification_report(y_test, y_pred4))"
      ],
      "execution_count": 17,
      "outputs": [
        {
          "output_type": "stream",
          "name": "stdout",
          "text": [
            "              precision    recall  f1-score   support\n",
            "\n",
            "           0       0.74      0.75      0.74       185\n",
            "           1       0.78      0.77      0.77       215\n",
            "\n",
            "    accuracy                           0.76       400\n",
            "   macro avg       0.76      0.76      0.76       400\n",
            "weighted avg       0.76      0.76      0.76       400\n",
            "\n"
          ]
        }
      ]
    },
    {
      "cell_type": "code",
      "metadata": {
        "colab": {
          "base_uri": "https://localhost:8080/",
          "height": 609
        },
        "id": "rsB2y71AIGcF",
        "outputId": "c1ca2020-b05a-4396-cc09-eced5b0b9a6b"
      },
      "source": [
        "feat_importances = pd.Series(model2.feature_importances_, index=X_features.columns)\n",
        "feat_importances.nlargest(25).plot(kind='barh',figsize=(10,10))"
      ],
      "execution_count": 18,
      "outputs": [
        {
          "output_type": "execute_result",
          "data": {
            "text/plain": [
              "<matplotlib.axes._subplots.AxesSubplot at 0x7fb1d3c949d0>"
            ]
          },
          "metadata": {},
          "execution_count": 18
        },
        {
          "output_type": "display_data",
          "data": {
            "image/png": "[encoded data removed]",
            "text/plain": [
              "<Figure size 720x720 with 1 Axes>"
            ]
          },
          "metadata": {
            "needs_background": "light"
          }
        }
      ]
    },
    {
      "cell_type": "code",
      "metadata": {
        "colab": {
          "base_uri": "https://localhost:8080/",
          "height": 349
        },
        "id": "8gkKOB_SIX1E",
        "outputId": "e40d537d-5e46-42ce-f806-8876b8b68b8c"
      },
      "source": [
        "# Filtering df for only good quality\n",
        "df_temp = df[df['goodquality']==1]\n",
        "df_temp.describe()\n",
        "# Filtering df for only bad quality\n",
        "df_temp2 = df[df['goodquality']==0]\n",
        "df_temp2.describe()"
      ],
      "execution_count": 19,
      "outputs": [
        {
          "output_type": "execute_result",
          "data": {
            "text/html": [
              "<div>\n",
              "<style scoped>\n",
              "    .dataframe tbody tr th:only-of-type {\n",
              "        vertical-align: middle;\n",
              "    }\n",
              "\n",
              "    .dataframe tbody tr th {\n",
              "        vertical-align: top;\n",
              "    }\n",
              "\n",
              "    .dataframe thead th {\n",
              "        text-align: right;\n",
              "    }\n",
              "</style>\n",
              "<table border=\"1\" class=\"dataframe\">\n",
              "  <thead>\n",
              "    <tr style=\"text-align: right;\">\n",
              "      <th></th>\n",
              "      <th>fixed acidity</th>\n",
              "      <th>volatile acidity</th>\n",
              "      <th>citric acid</th>\n",
              "      <th>residual sugar</th>\n",
              "      <th>chlorides</th>\n",
              "      <th>free sulfur dioxide</th>\n",
              "      <th>total sulfur dioxide</th>\n",
              "      <th>density</th>\n",
              "      <th>pH</th>\n",
              "      <th>sulphates</th>\n",
              "      <th>alcohol</th>\n",
              "      <th>quality</th>\n",
              "      <th>goodquality</th>\n",
              "    </tr>\n",
              "  </thead>\n",
              "  <tbody>\n",
              "    <tr>\n",
              "      <th>count</th>\n",
              "      <td>744.000000</td>\n",
              "      <td>744.000000</td>\n",
              "      <td>744.000000</td>\n",
              "      <td>744.00000</td>\n",
              "      <td>744.000000</td>\n",
              "      <td>744.000000</td>\n",
              "      <td>744.000000</td>\n",
              "      <td>744.000000</td>\n",
              "      <td>744.000000</td>\n",
              "      <td>744.000000</td>\n",
              "      <td>744.000000</td>\n",
              "      <td>744.000000</td>\n",
              "      <td>744.0</td>\n",
              "    </tr>\n",
              "    <tr>\n",
              "      <th>mean</th>\n",
              "      <td>8.142204</td>\n",
              "      <td>0.589503</td>\n",
              "      <td>0.237755</td>\n",
              "      <td>2.54207</td>\n",
              "      <td>0.092989</td>\n",
              "      <td>16.567204</td>\n",
              "      <td>54.645161</td>\n",
              "      <td>0.997068</td>\n",
              "      <td>3.311653</td>\n",
              "      <td>0.618535</td>\n",
              "      <td>9.926478</td>\n",
              "      <td>4.901882</td>\n",
              "      <td>0.0</td>\n",
              "    </tr>\n",
              "    <tr>\n",
              "      <th>std</th>\n",
              "      <td>1.572396</td>\n",
              "      <td>0.177956</td>\n",
              "      <td>0.183368</td>\n",
              "      <td>1.39355</td>\n",
              "      <td>0.055781</td>\n",
              "      <td>10.890291</td>\n",
              "      <td>36.720468</td>\n",
              "      <td>0.001598</td>\n",
              "      <td>0.154296</td>\n",
              "      <td>0.176194</td>\n",
              "      <td>0.758007</td>\n",
              "      <td>0.339894</td>\n",
              "      <td>0.0</td>\n",
              "    </tr>\n",
              "    <tr>\n",
              "      <th>min</th>\n",
              "      <td>4.600000</td>\n",
              "      <td>0.180000</td>\n",
              "      <td>0.000000</td>\n",
              "      <td>1.20000</td>\n",
              "      <td>0.039000</td>\n",
              "      <td>3.000000</td>\n",
              "      <td>6.000000</td>\n",
              "      <td>0.992560</td>\n",
              "      <td>2.740000</td>\n",
              "      <td>0.330000</td>\n",
              "      <td>8.400000</td>\n",
              "      <td>3.000000</td>\n",
              "      <td>0.0</td>\n",
              "    </tr>\n",
              "    <tr>\n",
              "      <th>25%</th>\n",
              "      <td>7.100000</td>\n",
              "      <td>0.460000</td>\n",
              "      <td>0.080000</td>\n",
              "      <td>1.90000</td>\n",
              "      <td>0.074000</td>\n",
              "      <td>8.000000</td>\n",
              "      <td>23.750000</td>\n",
              "      <td>0.996120</td>\n",
              "      <td>3.200000</td>\n",
              "      <td>0.520000</td>\n",
              "      <td>9.400000</td>\n",
              "      <td>5.000000</td>\n",
              "      <td>0.0</td>\n",
              "    </tr>\n",
              "    <tr>\n",
              "      <th>50%</th>\n",
              "      <td>7.800000</td>\n",
              "      <td>0.590000</td>\n",
              "      <td>0.220000</td>\n",
              "      <td>2.20000</td>\n",
              "      <td>0.081000</td>\n",
              "      <td>14.000000</td>\n",
              "      <td>45.000000</td>\n",
              "      <td>0.996935</td>\n",
              "      <td>3.310000</td>\n",
              "      <td>0.580000</td>\n",
              "      <td>9.700000</td>\n",
              "      <td>5.000000</td>\n",
              "      <td>0.0</td>\n",
              "    </tr>\n",
              "    <tr>\n",
              "      <th>75%</th>\n",
              "      <td>8.900000</td>\n",
              "      <td>0.680000</td>\n",
              "      <td>0.360000</td>\n",
              "      <td>2.60000</td>\n",
              "      <td>0.094000</td>\n",
              "      <td>23.000000</td>\n",
              "      <td>78.000000</td>\n",
              "      <td>0.997900</td>\n",
              "      <td>3.400000</td>\n",
              "      <td>0.650000</td>\n",
              "      <td>10.300000</td>\n",
              "      <td>5.000000</td>\n",
              "      <td>0.0</td>\n",
              "    </tr>\n",
              "    <tr>\n",
              "      <th>max</th>\n",
              "      <td>15.900000</td>\n",
              "      <td>1.580000</td>\n",
              "      <td>1.000000</td>\n",
              "      <td>15.50000</td>\n",
              "      <td>0.611000</td>\n",
              "      <td>68.000000</td>\n",
              "      <td>155.000000</td>\n",
              "      <td>1.003150</td>\n",
              "      <td>3.900000</td>\n",
              "      <td>2.000000</td>\n",
              "      <td>14.900000</td>\n",
              "      <td>5.000000</td>\n",
              "      <td>0.0</td>\n",
              "    </tr>\n",
              "  </tbody>\n",
              "</table>\n",
              "</div>"
            ],
            "text/plain": [
              "       fixed acidity  volatile acidity  ...     quality  goodquality\n",
              "count     744.000000        744.000000  ...  744.000000        744.0\n",
              "mean        8.142204          0.589503  ...    4.901882          0.0\n",
              "std         1.572396          0.177956  ...    0.339894          0.0\n",
              "min         4.600000          0.180000  ...    3.000000          0.0\n",
              "25%         7.100000          0.460000  ...    5.000000          0.0\n",
              "50%         7.800000          0.590000  ...    5.000000          0.0\n",
              "75%         8.900000          0.680000  ...    5.000000          0.0\n",
              "max        15.900000          1.580000  ...    5.000000          0.0\n",
              "\n",
              "[8 rows x 13 columns]"
            ]
          },
          "metadata": {},
          "execution_count": 19
        }
      ]
    }
  ]
}